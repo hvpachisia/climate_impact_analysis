{
 "cells": [
  {
   "cell_type": "code",
   "execution_count": null,
   "metadata": {},
   "outputs": [],
   "source": [
    "import pandas as pd\n",
    "\n",
    "\n"
   ]
  },
  {
   "cell_type": "markdown",
   "metadata": {},
   "source": []
  },
  {
   "cell_type": "code",
   "execution_count": null,
   "metadata": {},
   "outputs": [],
   "source": [
    "def clean_disaster_summaries():\n",
    "    project_summaries = pd.read_csv(\"PublicAssistanceFundedProjectsSummaries.csv\")\n",
    "    project_summaries.head()\n",
    "    list(project_summaries.columns)\n",
    "    \n",
    "    ##MERGE With disaster IDS from Harsh Here on disasterNumber\n",
    "    project_summaries = project_summaries.drop(columns=['disasterNumber', 'numberOfProjects','educationApplicant' ])\n",
    "\n",
    "    #can add county here\n",
    "    collapsed_summaries = project_summaries.groupby(['state','incidentType'], as_index=False).sum('federalObligatedAmount')\n",
    "    print(collapsed_summaries)\n",
    "    pivoted = collapsed_summaries.pivot(index=\"state\", columns=\"incidentType\", values=\"federalObligatedAmount\")\n",
    "\n",
    "    pivoted.sum(axis='columns') #returns total by state\n",
    "\n",
    "\n",
    "    return pivoted"
   ]
  }
 ],
 "metadata": {
  "language_info": {
   "name": "python"
  },
  "orig_nbformat": 4
 },
 "nbformat": 4,
 "nbformat_minor": 2
}
